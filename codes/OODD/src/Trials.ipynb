{
 "cells": [
  {
   "cell_type": "code",
   "execution_count": 1,
   "metadata": {
    "ExecuteTime": {
     "end_time": "2021-05-10T08:08:58.074941Z",
     "start_time": "2021-05-10T08:08:56.842059Z"
    }
   },
   "outputs": [
    {
     "name": "stderr",
     "output_type": "stream",
     "text": [
      "/home/raghab-ankan/miniconda3/envs/py37/lib/python3.7/site-packages/tensorflow/python/framework/dtypes.py:526: FutureWarning: Passing (type, 1) or '1type' as a synonym of type is deprecated; in a future version of numpy, it will be understood as (type, (1,)) / '(1,)type'.\n",
      "  _np_qint8 = np.dtype([(\"qint8\", np.int8, 1)])\n",
      "/home/raghab-ankan/miniconda3/envs/py37/lib/python3.7/site-packages/tensorflow/python/framework/dtypes.py:527: FutureWarning: Passing (type, 1) or '1type' as a synonym of type is deprecated; in a future version of numpy, it will be understood as (type, (1,)) / '(1,)type'.\n",
      "  _np_quint8 = np.dtype([(\"quint8\", np.uint8, 1)])\n",
      "/home/raghab-ankan/miniconda3/envs/py37/lib/python3.7/site-packages/tensorflow/python/framework/dtypes.py:528: FutureWarning: Passing (type, 1) or '1type' as a synonym of type is deprecated; in a future version of numpy, it will be understood as (type, (1,)) / '(1,)type'.\n",
      "  _np_qint16 = np.dtype([(\"qint16\", np.int16, 1)])\n",
      "/home/raghab-ankan/miniconda3/envs/py37/lib/python3.7/site-packages/tensorflow/python/framework/dtypes.py:529: FutureWarning: Passing (type, 1) or '1type' as a synonym of type is deprecated; in a future version of numpy, it will be understood as (type, (1,)) / '(1,)type'.\n",
      "  _np_quint16 = np.dtype([(\"quint16\", np.uint16, 1)])\n",
      "/home/raghab-ankan/miniconda3/envs/py37/lib/python3.7/site-packages/tensorflow/python/framework/dtypes.py:530: FutureWarning: Passing (type, 1) or '1type' as a synonym of type is deprecated; in a future version of numpy, it will be understood as (type, (1,)) / '(1,)type'.\n",
      "  _np_qint32 = np.dtype([(\"qint32\", np.int32, 1)])\n",
      "/home/raghab-ankan/miniconda3/envs/py37/lib/python3.7/site-packages/tensorflow/python/framework/dtypes.py:535: FutureWarning: Passing (type, 1) or '1type' as a synonym of type is deprecated; in a future version of numpy, it will be understood as (type, (1,)) / '(1,)type'.\n",
      "  np_resource = np.dtype([(\"resource\", np.ubyte, 1)])\n"
     ]
    }
   ],
   "source": [
    "from __future__ import print_function\n",
    "import numpy\n",
    "import sys\n",
    "import os\n",
    "import configparser\n",
    "from all_parameters import get_all_parameters\n",
    "import tensorflow as tf\n",
    "import argparse\n",
    "from utils import compute_values, get_data\n",
    "from experiment import RunExperiment\n",
    "from workspace import workspace\n",
    "from model import MatchingNetwork\n",
    "from vocabulary import get_word_info\n",
    "import math\n",
    "import random\n",
    "import json\n",
    "import time\n",
    "from tensorflow.python.client import device_lib\n",
    "import pickle"
   ]
  },
  {
   "cell_type": "code",
   "execution_count": 2,
   "metadata": {
    "ExecuteTime": {
     "end_time": "2021-05-10T08:08:58.083231Z",
     "start_time": "2021-05-10T08:08:58.076673Z"
    }
   },
   "outputs": [],
   "source": [
    "def get_available_gpus():\n",
    "    local_device_protos = device_lib.list_local_devices()\n",
    "    return [x.name for x in local_device_protos if x.device_type == 'GPU']\n",
    "\n",
    "def train_test_model(params, sess, model, experiment):\n",
    "    TEST_FILE_INDEX = 2\n",
    "    train_data = get_data(params,\n",
    "                          params['mnet_training_list'],\n",
    "                          role='train_workspace')\n",
    "    \n",
    "    dev_data = get_data(params,\n",
    "                        params['mnet_dev_list'],\n",
    "                        role='valid_workspace')\n",
    "\n",
    "    test_data = get_data(params,\n",
    "                         params['testing_list'],\n",
    "                         role='test_workspace')\n",
    "\n",
    "    best_v_macro_avg_eer = 1.0\n",
    "    total_epoches = params['total_epoch']\n",
    "    print('Starting epochs, Total =', total_epoches)\n",
    "\n",
    "    for e in range(1, total_epoches+1):\n",
    "        avg_loss = 0.0\n",
    "\n",
    "        for workspace_idx in numpy.random.permutation(range(len(train_data))):\n",
    "            curr_train_workspace = train_data[workspace_idx]\n",
    "            all_ood_workapces = train_data[:workspace_idx] + train_data[workspace_idx+1:]\n",
    "            batch_loss = experiment.run_training_epoch(curr_train_workspace, all_ood_workapces)\n",
    "#             if params['single_workspace'] is False or e % 500 == 0:\n",
    "#             if e%500 == 0:\n",
    "#                 print(\"Epoch {}: train_loss: {}\".format(e, batch_loss))\n",
    "#             sys.stdout.flush()\n",
    "            avg_loss += batch_loss\n",
    "        avg_loss = avg_loss / len(train_data)\n",
    "        print('Epoch {:4d}: avg_loss: {} {}'.format(e, avg_loss, os.getpid()))\n",
    "\n",
    "#         if e % 50 == 0 or total_epoches==100:\n",
    "        if 1==1:\n",
    "            sys.stdout.flush()\n",
    "            print('-'*40, 'Testing', '-'*40)\n",
    "            v_macro_avg_eer, v_macro_avg_far, v_macro_avg_frr, \\\n",
    "                v_macro_avg_acc_ideal, v_macro_avg_acc, \\\n",
    "                val_output_info_list = compute_values(params, experiment, dev_data, e)\n",
    "\n",
    "#             t_macro_avg_eer, t_macro_avg_far, t_macro_avg_frr, \\\n",
    "#                 t_macro_avg_acc_ideal, t_macro_avg_acc, \\\n",
    "#                 test_output_info_list = compute_values(params, experiment, test_data, e)\n",
    "\n",
    "            print(\"Meta-Valid Macro(eer, onacc_ideal, onacc): %.3f, %.3f, %.3f\" %\n",
    "                  (v_macro_avg_eer, \n",
    "                   v_macro_avg_acc_ideal, \n",
    "                   v_macro_avg_acc))\n",
    "#             print(\"Meta-Test Macro(eer, onacc_ideal, onacc): %.3f, %.3f, %.3f\" %\n",
    "#                   (t_macro_avg_eer,\n",
    "#                    t_macro_avg_acc_ideal,\n",
    "#                    t_macro_avg_acc))\n",
    "            print('-'*89)"
   ]
  },
  {
   "cell_type": "code",
   "execution_count": 3,
   "metadata": {
    "ExecuteTime": {
     "end_time": "2021-05-10T08:09:11.974668Z",
     "start_time": "2021-05-10T08:08:58.893617Z"
    }
   },
   "outputs": [
    {
     "name": "stdout",
     "output_type": "stream",
     "text": [
      "All parameters:\n",
      "\ttotal_epoch==>200\n",
      "\tsingle_workspace==>False\n",
      "\tw2vfile==>../glove/glove.6B.100d.txt\n",
      "\tmnet_training_dir==>../data/train/\n",
      "\tmnet_training_list==>../data/train/workspace_list\n",
      "\tmnet_dev_dir==>../data/dev/\n",
      "\tmnet_dev_list==>../data/dev/workspace_list\n",
      "\ttesting_dir==>../data/test/\n",
      "\ttesting_list==>../data/test/workspace_list\n",
      "\tmodel_string==>dummy\n",
      "\tmodel_dir==>/dccstor/slad/mingtan/offtopic_paper/outputs/models\n",
      "\tbatch_size==>10\n",
      "\tmax_length==>40\n",
      "\temb_size==>100\n",
      "\tencoding==>utf-8\n",
      "\tmin_ss_size==>100\n",
      "\thidden_size==>200\n",
      "\tsoftmax_factor==>10.0\n",
      "\tlearning_rate==>0.001\n",
      "\tremove_target_from_support_set==>True\n",
      "\tdropout_keep_prob==>1.0\n",
      "\tvocabulary==>None\n",
      "\twordvectors==>None\n",
      "\tofftopic_label==>UNCONFIDENT_INTENT_FROM_SLAD\n",
      "\tsampling_classes==>2\n",
      "\ttopk_ss==>0\n",
      "\tlayer_num==>1\n",
      "\tenable_batchnorm==>True\n",
      "\tmtl_num_tasks==>0\n",
      "\tfilter_size==>3\n",
      "\tood_threshold==>0.6\n",
      "\tood_threshold_margin==>0.2\n",
      "\tood_example_size==>1\n",
      "\talpha_pos==>1.0\n",
      "\talpha_neg==>1.0\n",
      "\talpha_indomain==>1.0\n",
      "\tseed==>3143\n",
      "Parameters: {\n",
      "    \"total_epoch\": 200,\n",
      "    \"single_workspace\": false,\n",
      "    \"w2vfile\": \"../glove/glove.6B.100d.txt\",\n",
      "    \"mnet_training_dir\": \"../data/train/\",\n",
      "    \"mnet_training_list\": \"../data/train/workspace_list\",\n",
      "    \"mnet_dev_dir\": \"../data/dev/\",\n",
      "    \"mnet_dev_list\": \"../data/dev/workspace_list\",\n",
      "    \"testing_dir\": \"../data/test/\",\n",
      "    \"testing_list\": \"../data/test/workspace_list\",\n",
      "    \"model_string\": \"test-run\",\n",
      "    \"model_dir\": \"/dccstor/slad/mingtan/offtopic_paper/outputs/models\",\n",
      "    \"batch_size\": 10,\n",
      "    \"max_length\": 40,\n",
      "    \"emb_size\": 100,\n",
      "    \"encoding\": \"utf-8\",\n",
      "    \"min_ss_size\": 100,\n",
      "    \"hidden_size\": 200,\n",
      "    \"softmax_factor\": 10.0,\n",
      "    \"learning_rate\": 0.001,\n",
      "    \"remove_target_from_support_set\": true,\n",
      "    \"dropout_keep_prob\": 1.0,\n",
      "    \"vocabulary\": null,\n",
      "    \"wordvectors\": null,\n",
      "    \"offtopic_label\": \"UNCONFIDENT_INTENT_FROM_SLAD\",\n",
      "    \"sampling_classes\": 2,\n",
      "    \"topk_ss\": 0,\n",
      "    \"layer_num\": 1,\n",
      "    \"enable_batchnorm\": true,\n",
      "    \"mtl_num_tasks\": 0,\n",
      "    \"filter_size\": 3,\n",
      "    \"ood_threshold\": 0.6,\n",
      "    \"ood_threshold_margin\": 0.2,\n",
      "    \"ood_example_size\": 1,\n",
      "    \"alpha_pos\": 1.0,\n",
      "    \"alpha_neg\": 1.0,\n",
      "    \"alpha_indomain\": 1.0,\n",
      "    \"seed\": 3143\n",
      "}\n"
     ]
    },
    {
     "name": "stderr",
     "output_type": "stream",
     "text": [
      "/home/raghab-ankan/miniconda3/envs/py37/lib/python3.7/site-packages/ipykernel_launcher.py:2: DeprecationWarning: The SafeConfigParser class has been renamed to ConfigParser in Python 3.2. This alias will be removed in future versions. Use ConfigParser directly instead.\n",
      "  \n"
     ]
    },
    {
     "name": "stdout",
     "output_type": "stream",
     "text": [
      "get_word_info, params[\"w2vfile\"] -> ../glove/glove.6B.100d.txt\n",
      "Embed Size 100\n",
      "Skipped -> 0\n",
      "wdmap 400000\n",
      "len(W) 400000\n",
      "Loaded BERT Model\n",
      "0 words taken from BERT\n",
      "Time Taken = 0.0008 minutes\n",
      "After combined with train file\n",
      "word2idx size: 400028\n"
     ]
    }
   ],
   "source": [
    "config_paths = [\"../config/config\"]\n",
    "config_parser = configparser.SafeConfigParser()\n",
    "config_found = config_parser.read(config_paths)\n",
    "\n",
    "params = get_all_parameters(config_parser, \"test-run\")\n",
    "params['model_string'] = \"test-run\"\n",
    "\n",
    "os.environ[\"CUDA_VISIBLE_DEVICES\"] = '1'\n",
    "\n",
    "tf.set_random_seed(params['seed'])\n",
    "numpy.random.seed(params['seed'])\n",
    "random.seed(params['seed'])\n",
    "\n",
    "print('Parameters:', json.dumps(params, indent=4))\n",
    "sys.stdout.flush()\n",
    "\n",
    "# build the vocabulary\n",
    "# if mode is train, vocabulary is train_data word + old word vectors\n",
    "# otherwise, vocabulary is read from wordd2idx file, params[\"wordvectors\"]\n",
    "#            is initialized randomly, restored by model file later\n",
    "config = tf.ConfigProto()\n",
    "config.gpu_options.allow_growth = True\n",
    "\n",
    "#     print(get_available_gpus())\n",
    "#     time.sleep(5)\n",
    "\n",
    "with tf.Session(config=config) as sess:\n",
    "    voc, w2v = get_word_info(params)\n",
    "\n",
    "    params['vocabulary'] = voc\n",
    "    voclist = [None] * len(voc)\n",
    "    for v in voc:\n",
    "        voclist[voc[v]] = v\n",
    "    params['voclist'] = voclist\n",
    "    params[\"wordvectors\"] = w2v\n",
    "\n",
    "#     with open('params.txt', 'w') as outfile:\n",
    "#         json.dumps(params, outfile)\n",
    "\n",
    "#     with open('params.pkl', 'wb') as f:\n",
    "#         pickle.dump(params, f)"
   ]
  },
  {
   "cell_type": "code",
   "execution_count": 4,
   "metadata": {
    "ExecuteTime": {
     "end_time": "2021-05-10T08:09:13.187596Z",
     "start_time": "2021-05-10T08:09:11.976260Z"
    }
   },
   "outputs": [
    {
     "name": "stdout",
     "output_type": "stream",
     "text": [
      "WARNING:tensorflow:From /home/raghab-ankan/miniconda3/envs/py37/lib/python3.7/site-packages/tensorflow/python/framework/op_def_library.py:263: colocate_with (from tensorflow.python.framework.ops) is deprecated and will be removed in a future version.\n",
      "Instructions for updating:\n",
      "Colocations handled automatically by placer.\n"
     ]
    }
   ],
   "source": [
    "model = MatchingNetwork(params)"
   ]
  },
  {
   "cell_type": "code",
   "execution_count": 5,
   "metadata": {
    "ExecuteTime": {
     "end_time": "2021-05-10T08:09:19.332014Z",
     "start_time": "2021-05-10T08:09:19.315835Z"
    }
   },
   "outputs": [
    {
     "data": {
      "text/plain": [
       "['W',\n",
       " '__class__',\n",
       " '__delattr__',\n",
       " '__dict__',\n",
       " '__dir__',\n",
       " '__doc__',\n",
       " '__eq__',\n",
       " '__format__',\n",
       " '__ge__',\n",
       " '__getattribute__',\n",
       " '__gt__',\n",
       " '__hash__',\n",
       " '__init__',\n",
       " '__init_subclass__',\n",
       " '__le__',\n",
       " '__lt__',\n",
       " '__module__',\n",
       " '__ne__',\n",
       " '__new__',\n",
       " '__reduce__',\n",
       " '__reduce_ex__',\n",
       " '__repr__',\n",
       " '__setattr__',\n",
       " '__sizeof__',\n",
       " '__str__',\n",
       " '__subclasshook__',\n",
       " '__weakref__',\n",
       " 'build',\n",
       " 'classify',\n",
       " 'dn',\n",
       " 'get_prototype',\n",
       " 'get_train_op',\n",
       " 'init',\n",
       " 'input_ood_sents',\n",
       " 'input_support_set_sents',\n",
       " 'input_target_sent',\n",
       " 'input_target_sent_test',\n",
       " 'is_training',\n",
       " 'ood_sents',\n",
       " 'ood_sents_mask',\n",
       " 'params',\n",
       " 'ss_encoded_sents_avg_test',\n",
       " 'ss_g',\n",
       " 'support_set_labels',\n",
       " 'support_set_sents',\n",
       " 'support_set_sents_mask',\n",
       " 'target_label',\n",
       " 'target_sent',\n",
       " 'target_sent_mask',\n",
       " 'target_sent_mask_test',\n",
       " 'target_sent_test']"
      ]
     },
     "execution_count": 5,
     "metadata": {},
     "output_type": "execute_result"
    }
   ],
   "source": [
    "dir(model)"
   ]
  },
  {
   "cell_type": "code",
   "execution_count": 7,
   "metadata": {
    "ExecuteTime": {
     "end_time": "2021-05-10T08:10:11.052312Z",
     "start_time": "2021-05-10T08:10:09.739932Z"
    }
   },
   "outputs": [
    {
     "name": "stdout",
     "output_type": "stream",
     "text": [
      "WARNING:tensorflow:From /home/raghab-ankan/code/ood/src/model.py:62: conv2d (from tensorflow.python.layers.convolutional) is deprecated and will be removed in a future version.\n",
      "Instructions for updating:\n",
      "Use keras.layers.conv2d instead.\n",
      "batch norm enabled.\n",
      "\n",
      "WARNING: The TensorFlow contrib module will not be included in TensorFlow 2.0.\n",
      "For more information, please see:\n",
      "  * https://github.com/tensorflow/community/blob/master/rfcs/20180907-contrib-sunset.md\n",
      "  * https://github.com/tensorflow/addons\n",
      "If you depend on functionality not listed there, please file an issue.\n",
      "\n",
      "g_conv_encoder Tensor(\"losses/g/truediv:0\", shape=(?, 200), dtype=float32)\n",
      "batch norm enabled.\n",
      "g_conv_encoder Tensor(\"losses/g_1/truediv:0\", shape=(?, 200), dtype=float32)\n",
      "batch norm enabled.\n",
      "g_conv_encoder Tensor(\"losses/g_2/truediv:0\", shape=(?, 200), dtype=float32)\n",
      "batch norm enabled.\n",
      "g_conv_encoder Tensor(\"losses/g_3/truediv:0\", shape=(?, 200), dtype=float32)\n",
      "current_learning_rate 0.001\n",
      "tf.global_variables()--> <tf.Variable 'W:0' shape=(400028, 100) dtype=float32_ref>\n",
      "tf.global_variables()--> <tf.Variable 'g/conv1/kernel:0' shape=(3, 1, 100, 200) dtype=float32_ref>\n",
      "tf.global_variables()--> <tf.Variable 'g/BatchNorm/beta:0' shape=(200,) dtype=float32_ref>\n",
      "tf.global_variables()--> <tf.Variable 'g/BatchNorm/gamma:0' shape=(200,) dtype=float32_ref>\n",
      "tf.global_variables()--> <tf.Variable 'g/BatchNorm/moving_mean:0' shape=(200,) dtype=float32_ref>\n",
      "tf.global_variables()--> <tf.Variable 'g/BatchNorm/moving_variance:0' shape=(200,) dtype=float32_ref>\n",
      "WARNING:tensorflow:From /home/raghab-ankan/miniconda3/envs/py37/lib/python3.7/site-packages/tensorflow/python/ops/math_ops.py:3066: to_int32 (from tensorflow.python.ops.math_ops) is deprecated and will be removed in a future version.\n",
      "Instructions for updating:\n",
      "Use tf.cast instead.\n",
      "WARNING:tensorflow:From /home/raghab-ankan/miniconda3/envs/py37/lib/python3.7/site-packages/tensorflow/python/ops/math_grad.py:102: div (from tensorflow.python.ops.math_ops) is deprecated and will be removed in a future version.\n",
      "Instructions for updating:\n",
      "Deprecated in favor of operator or tf.math.divide.\n"
     ]
    }
   ],
   "source": [
    "model.init()"
   ]
  },
  {
   "cell_type": "code",
   "execution_count": 14,
   "metadata": {
    "ExecuteTime": {
     "end_time": "2021-05-10T08:17:37.556062Z",
     "start_time": "2021-05-10T08:17:37.549358Z"
    }
   },
   "outputs": [
    {
     "data": {
      "text/plain": [
       "[<tf.Variable 'g/conv1/kernel:0' shape=(3, 1, 100, 200) dtype=float32_ref>,\n",
       " <tf.Variable 'g/BatchNorm/beta:0' shape=(200,) dtype=float32_ref>,\n",
       " <tf.Variable 'g/BatchNorm/gamma:0' shape=(200,) dtype=float32_ref>]"
      ]
     },
     "execution_count": 14,
     "metadata": {},
     "output_type": "execute_result"
    }
   ],
   "source": [
    "model.variables"
   ]
  },
  {
   "cell_type": "code",
   "execution_count": null,
   "metadata": {},
   "outputs": [],
   "source": [
    "tf.reset_default_graph()\n",
    "with tf.Graph().as_default():\n",
    "    sess = tf.Session()\n",
    "    with sess.as_default():\n",
    "\n",
    "        model = MatchingNetwork(params)\n",
    "        model.init()\n",
    "        experiment = RunExperiment(model, params, sess)\n",
    "        sess.run(tf.global_variables_initializer())\n",
    "        train_test_model(params, sess, model, experiment)\n",
    "        print(\"=====Training Finished======\")"
   ]
  }
 ],
 "metadata": {
  "kernelspec": {
   "display_name": "py37",
   "language": "python",
   "name": "py37"
  },
  "language_info": {
   "codemirror_mode": {
    "name": "ipython",
    "version": 3
   },
   "file_extension": ".py",
   "mimetype": "text/x-python",
   "name": "python",
   "nbconvert_exporter": "python",
   "pygments_lexer": "ipython3",
   "version": "3.7.10"
  }
 },
 "nbformat": 4,
 "nbformat_minor": 2
}
